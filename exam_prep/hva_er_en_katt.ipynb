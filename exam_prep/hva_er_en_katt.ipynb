{
 "cells": [
  {
   "cell_type": "markdown",
   "metadata": {},
   "source": [
    "# Lineæralgebra i Datahåndtering med Python og NumPy\n",
    "\n",
    "I denne notebooken skal vi utforske lineæralgebraens anvendelser i datahåndtering. Vi vil dekke følgende oppgaver:\n",
    "\n",
    "1. Beregning av \\( 1^T 1 \\), \\( 1 1^T \\) og \\( 1^T x \\).\n",
    "2. Vis at sentreringsmatrisen \\( C_n \\) er en projeksjon, og finn gjennomsnittet av den nye sentrerte variabelen.\n",
    "3. Utled koeffisientene til det lineære regresjonspolynomet med sentrerte variable, og forklar hvorfor dette er nyttig.\n",
    "4. Vis at \\( \\beta_0 = 0 \\) hvis \\( x_1 \\), \\( x_2 \\) og \\( y \\) er sentrerte.\n",
    "5. Vis at elementene i \\( \\frac{1}{n-1}X^T X \\) er den empiriske kovariansen mellom kolonnene i \\( X \\).\n",
    "6. Vis at den empiriske kovariansmatrisen er positivt semidefinit.\n",
    "\n",
    "## Oppgave 1: Beregning av \\( 1^T 1 \\), \\( 1 1^T \\) og \\( 1^T x \\)\n"
   ]
  },
  {
   "cell_type": "code",
   "execution_count": 30,
   "metadata": {},
   "outputs": [
    {
     "data": {
      "text/plain": [
       "(array([[5.]]),\n",
       " array([[1., 1., 1., 1., 1.],\n",
       "        [1., 1., 1., 1., 1.],\n",
       "        [1., 1., 1., 1., 1.],\n",
       "        [1., 1., 1., 1., 1.],\n",
       "        [1., 1., 1., 1., 1.]]),\n",
       " array([[2.16231746]]))"
      ]
     },
     "execution_count": 30,
     "metadata": {},
     "output_type": "execute_result"
    }
   ],
   "source": [
    "import numpy as np\n",
    "\n",
    "# Definerer 1-vektoren\n",
    "n = 5  # eksempel størrelse\n",
    "one_vector = np.ones((n, 1))\n",
    "\n",
    "# Beregning av 1^T 1\n",
    "one_T_one = np.dot(one_vector.T, one_vector)\n",
    "\n",
    "# Beregning av 1 1^T\n",
    "one_one_T = np.dot(one_vector, one_vector.T)\n",
    "\n",
    "# Eksempel datavektor x\n",
    "x = np.random.rand(n, 1)\n",
    "\n",
    "# Beregning av 1^T x\n",
    "one_T_x = np.dot(one_vector.T, x)\n",
    "\n",
    "one_T_one, one_one_T, one_T_x"
   ]
  },
  {
   "cell_type": "code",
   "execution_count": 31,
   "metadata": {},
   "outputs": [
    {
     "data": {
      "text/plain": [
       "(True, -2.2204460492503132e-17)"
      ]
     },
     "execution_count": 31,
     "metadata": {},
     "output_type": "execute_result"
    }
   ],
   "source": [
    "# OPPGAVE 2\n",
    "# Definerer identitetsmatrisen I\n",
    "I = np.eye(n)\n",
    "\n",
    "# Beregner sentreringsmatrisen C_n\n",
    "C_n = I - (1/n) * one_one_T\n",
    "\n",
    "# Vis at C_n er en projeksjon\n",
    "Cn_squared = np.dot(C_n, C_n)\n",
    "projection_property = np.allclose(C_n, Cn_squared)\n",
    "\n",
    "# Sentrerer datavektoren x\n",
    "x_mean = np.mean(x)\n",
    "x_centered = x - x_mean\n",
    "\n",
    "# Sjekker at gjennomsnittet av den sentrerte variabelen er null\n",
    "centered_mean = np.mean(x_centered)\n",
    "\n",
    "projection_property, centered_mean\n"
   ]
  },
  {
   "cell_type": "code",
   "execution_count": 32,
   "metadata": {},
   "outputs": [
    {
     "data": {
      "text/plain": [
       "(array([[-0.11769329]]), array([[-9.1431158e-17]]))"
      ]
     },
     "execution_count": 32,
     "metadata": {},
     "output_type": "execute_result"
    }
   ],
   "source": [
    "# OPPGAVE 3\n",
    "# Eksempel datavektor y\n",
    "y = np.random.rand(n, 1)\n",
    "\n",
    "# Sentrerer y\n",
    "y_mean = np.mean(y)\n",
    "y_centered = y - y_mean\n",
    "\n",
    "# Beregning av koeffisientene beta_1 og beta_0\n",
    "beta_1_centered = np.dot(x_centered.T, y_centered) / np.dot(x_centered.T, x_centered)\n",
    "beta_0_centered = np.mean(y_centered) - beta_1_centered * np.mean(x_centered)\n",
    "\n",
    "beta_1_centered, beta_0_centered\n"
   ]
  },
  {
   "cell_type": "code",
   "execution_count": 33,
   "metadata": {},
   "outputs": [
    {
     "data": {
      "text/plain": [
       "False"
      ]
     },
     "execution_count": 33,
     "metadata": {},
     "output_type": "execute_result"
    }
   ],
   "source": [
    "# OPPGAVE 4\n",
    "# Hvis x1, x2 og y er sentrerte, er beta_0 = 0\n",
    "beta_0_centered_proof = np.mean(y_centered) == 0\n",
    "\n",
    "beta_0_centered_proof\n"
   ]
  },
  {
   "cell_type": "code",
   "execution_count": 36,
   "metadata": {},
   "outputs": [
    {
     "data": {
      "text/plain": [
       "array([[ 0.13630701,  0.11535818, -0.06829117],\n",
       "       [ 0.11535818,  0.145733  , -0.10095109],\n",
       "       [-0.06829117, -0.10095109,  0.09046087]])"
      ]
     },
     "execution_count": 36,
     "metadata": {},
     "output_type": "execute_result"
    }
   ],
   "source": [
    "# OPPGAVE 5\n",
    "# Eksempel matrise X med p = 3\n",
    "p = 3\n",
    "X = np.random.rand(n, p)\n",
    "\n",
    "# Sentrer kolonnene i X\n",
    "X_centered = X - np.mean(X, axis=0)\n",
    "\n",
    "# Beregning av empirisk kovariansmatrise\n",
    "empirical_covariance_matrix = np.dot(X_centered.T, X_centered) / (n-1)\n",
    "\n",
    "empirical_covariance_matrix"
   ]
  },
  {
   "cell_type": "code",
   "execution_count": 37,
   "metadata": {},
   "outputs": [
    {
     "data": {
      "text/plain": [
       "True"
      ]
     },
     "execution_count": 37,
     "metadata": {},
     "output_type": "execute_result"
    }
   ],
   "source": [
    "# OPPGAVE 6\n",
    "# Sjekker om den empiriske kovariansmatrisen er positivt semidefinit\n",
    "eigenvalues = np.linalg.eigvals(empirical_covariance_matrix)\n",
    "is_positive_semidefinite = np.all(eigenvalues >= 0)\n",
    "\n",
    "is_positive_semidefinite\n"
   ]
  },
  {
   "cell_type": "markdown",
   "metadata": {},
   "source": [
    "# OPPGAVE 7"
   ]
  },
  {
   "cell_type": "code",
   "execution_count": 38,
   "metadata": {},
   "outputs": [
    {
     "name": "stdout",
     "output_type": "stream",
     "text": [
      "[[  1. 154.  50.]\n",
      " [  2. 154.  50.]\n",
      " [  3. 153.  52.]\n",
      " [  4. 156.  53.]\n",
      " [  5. 155.  50.]\n",
      " [  6. 153.  51.]\n",
      " [  7. 154.  53.]\n",
      " [  8. 155.  53.]\n",
      " [  9. 153.  52.]\n",
      " [ 10. 154.  51.]\n",
      " [ 11. 155.  51.]\n",
      " [ 12. 155.  51.]\n",
      " [ 13. 154.  52.]\n",
      " [ 14. 156.  51.]\n",
      " [ 15. 155.  51.]\n",
      " [ 16. 154.  52.]\n",
      " [ 17. 155.  53.]\n",
      " [ 18. 154.  52.]\n",
      " [ 19. 154.  51.]\n",
      " [ 20. 156.  52.]\n",
      " [ 21. 155.  51.]\n",
      " [ 22. 154.  50.]\n",
      " [ 23. 155.  52.]\n",
      " [ 24. 157.  51.]\n",
      " [ 25. 152.  50.]\n",
      " [ 26. 155.  50.]\n",
      " [ 27. 156.  50.]\n",
      " [ 28. 155.  50.]\n",
      " [ 29. 156.  52.]]\n"
     ]
    }
   ],
   "source": [
    "import numpy as np\n",
    "data = np.genfromtxt('kai.csv', delimiter=',')\n",
    "print(data)"
   ]
  },
  {
   "cell_type": "code",
   "execution_count": 48,
   "metadata": {},
   "outputs": [
    {
     "data": {
      "text/plain": [
       "(array([154., 154., 153., 156., 155., 153., 154., 155., 153., 154., 155.,\n",
       "        155., 154., 156., 155., 154., 155., 154., 154., 156., 155., 154.,\n",
       "        155., 157., 152., 155., 156., 155., 156.]),\n",
       " array([50., 50., 52., 53., 50., 51., 53., 53., 52., 51., 51., 51., 52.,\n",
       "        51., 51., 52., 53., 52., 51., 52., 51., 50., 52., 51., 50., 50.,\n",
       "        50., 50., 52.]))"
      ]
     },
     "execution_count": 48,
     "metadata": {},
     "output_type": "execute_result"
    }
   ],
   "source": [
    "X = data[:,1]\n",
    "Y = data[:,2]\n",
    "X, Y"
   ]
  },
  {
   "cell_type": "code",
   "execution_count": 49,
   "metadata": {},
   "outputs": [
    {
     "data": {
      "text/plain": [
       "0.10837438423645317"
      ]
     },
     "execution_count": 49,
     "metadata": {},
     "output_type": "execute_result"
    }
   ],
   "source": [
    "X_mean = np.mean(X)\n",
    "Y_mean = np.mean(Y)\n",
    "empirical_covariance = np.sum((X - X_mean) * (Y - Y_mean)) / (len(X) - 1)\n",
    "empirical_covariance"
   ]
  },
  {
   "cell_type": "markdown",
   "metadata": {},
   "source": [
    "## Forklaring på Egenvektorer av \\( X^T X \\) og Samvariasjon\n",
    "\n",
    "### Rayleigh Kvotient\n",
    "Rayleigh kvotienten for en matrise \\( A \\) og en vektor \\( v \\) er definert som:\n",
    "\\[\n",
    "R(A, v) = \\frac{v^T A v}{v^T v}\n",
    "\\]\n",
    "Denne kvotienten gir et mål på hvordan vektoren \\( v \\) transformeres av matrisen \\( A \\). For en symmetrisk matrise som \\( X^T X \\), vil Rayleigh kvotienten nå sitt maksimum når \\( v \\) er en egenvektor av \\( A \\), og verdien av kvotienten vil være den tilhørende egenverdien.\n",
    "\n",
    "### Egenverdier og Egenvektorer av \\( X^T X \\)\n",
    "Når vi beregner egenverdier og egenvektorer av \\( X^T X \\), får vi informasjon om variansen og retningene (egenvektorene) der variansen er størst (egenverdiene). Dette er fordi \\( X^T X \\) er en kovarianslignende matrise.\n",
    "\n",
    "### Samvariasjon\n",
    "Egenvektorene til \\( X^T X \\) representerer retningene i rommet definert av kolonnene i \\( X \\) der variansen (eller samvariasjonen) er størst. Egenverdiene til \\( X^T X \\) gir mengden varians langs disse retningene. Ved å analysere egenvektorene og egenverdiene til \\( X^T X \\), kan vi forstå strukturen til dataene i \\( X \\), inkludert hvordan variablene samvarierer.\n",
    "\n",
    "### Oppsummering\n",
    "- **Rayleigh Kvotient**: Et verktøy for å måle hvordan en vektor transformeres av en matrise.\n",
    "- **Egenverdier og Egenvektorer**: Forteller oss om variansen og de mest signifikante retningene i dataene.\n",
    "- **Samvariasjon**: Egenvektorene til \\( X^T X \\) peker i retningene av maksimal varians, og egenverdiene forteller hvor mye varians som finnes i disse retningene.\n"
   ]
  },
  {
   "cell_type": "code",
   "execution_count": 92,
   "metadata": {},
   "outputs": [
    {
     "name": "stdout",
     "output_type": "stream",
     "text": [
      "Shape of XTX: (3, 3)\n",
      "Eigenvalues: [3.59576801 1.15231399 0.26006635]\n",
      "Eigenvectors: [[-0.67252785 -0.55260033 -0.49227955]\n",
      " [-0.50535737  0.82885594 -0.24002452]\n",
      " [-0.54066645 -0.08735393  0.83668936]]\n",
      "Rayleigh quotients: [3.5957680129234837, 1.1523139852301358, 0.2600663467155345]\n"
     ]
    }
   ],
   "source": [
    "n, p = 5, 3\n",
    "X = np.random.rand(n, p)\n",
    "\n",
    "# Beregn X^T X\n",
    "XTX = np.dot(X.T, X)\n",
    "\n",
    "# Sjekk dimensjoner på XTX\n",
    "print(\"Shape of XTX:\", XTX.shape)\n",
    "\n",
    "# Finn egenverdier og egenvektorer til X^T X\n",
    "eigenvalues, eigenvectors = np.linalg.eig(XTX)\n",
    "\n",
    "# Normaliser egenvektorene\n",
    "eigenvectors = eigenvectors / np.linalg.norm(eigenvectors, axis=0)\n",
    "\n",
    "# Definerer Rayleigh kvotienten\n",
    "def rayleigh_quotient(A, v):\n",
    "    return (v.T @ A @ v) / (v.T @ v)\n",
    "\n",
    "# Beregner Rayleigh kvotienter for hver egenvektor\n",
    "rayleigh_quotients = [rayleigh_quotient(XTX, eigenvectors[:, i]) for i in range(p)]\n",
    "\n",
    "print(\"Eigenvalues:\", eigenvalues)\n",
    "print(\"Eigenvectors:\", eigenvectors)\n",
    "print(\"Rayleigh quotients:\", rayleigh_quotients)\n"
   ]
  },
  {
   "cell_type": "markdown",
   "metadata": {},
   "source": [
    "# OPPGAVE 10"
   ]
  },
  {
   "cell_type": "code",
   "execution_count": 104,
   "metadata": {},
   "outputs": [],
   "source": [
    "import matplotlib.pyplot as plt\n",
    "\n",
    "def plot_på_enhetssirkelen(A: np.array):\n",
    "    \"\"\" Plots a 2x2 matrix on the unit circle \"\"\"\n",
    "\n",
    "    # Generer 1000 punkter på enhetssirkelen\n",
    "    x = np.linspace(0, 2*np.pi, 1000)\n",
    "    x = np.array([np.cos(x), np.sin(x)])\n",
    "\n",
    "    # Beregn Ax for alle x\n",
    "    Ax = A @ x\n",
    "\n",
    "    plt.scatter(Ax[0], Ax[1], label=\"Ax\")\n",
    "    plt.legend()\n",
    "    plt.show()\n"
   ]
  },
  {
   "cell_type": "code",
   "execution_count": 109,
   "metadata": {},
   "outputs": [
    {
     "data": {
      "image/png": "[encoded data removed]",
      "text/plain": [
       "<Figure size 640x480 with 1 Axes>"
      ]
     },
     "metadata": {},
     "output_type": "display_data"
    }
   ],
   "source": [
    "A = np.array([[-1,2],[1,2]])\n",
    "plot_på_enhetssirkelen(A)"
   ]
  },
  {
   "cell_type": "code",
   "execution_count": 122,
   "metadata": {},
   "outputs": [
    {
     "name": "stdout",
     "output_type": "stream",
     "text": [
      "ATA er symmetrisk: True\n",
      "AAT er symmetrisk: True\n",
      "Egenverdier av A^T A: [ 1. 16.  1.]\n",
      "V ((3, 3)):\n",
      " [[-0.81649658  0.57735027  0.36099419]\n",
      " [ 0.40824829  0.57735027 -0.81473869]\n",
      " [ 0.40824829  0.57735027  0.4537445 ]]\n",
      "Egenverdier av A A^T: [ 1. 16.  1.  0.  0.]\n",
      "U ((5, 5)):\n",
      " [[-0.81649658  0.57735027  0.36099419  0.          0.        ]\n",
      " [ 0.40824829  0.57735027 -0.81473869  0.          0.        ]\n",
      " [ 0.40824829  0.57735027  0.4537445   0.          0.        ]\n",
      " [ 0.          0.          0.          1.          0.        ]\n",
      " [ 0.          0.          0.          0.          1.        ]]\n"
     ]
    }
   ],
   "source": [
    "# Eksempel matrise A\n",
    "A = np.array([[2, 1, 1], \n",
    "              [1, 2, 1],\n",
    "              [1, 1, 2],\n",
    "              [0, 0, 0],\n",
    "              [0, 0, 0],\n",
    "            ])\n",
    "\n",
    "# Beregn A^T A og A A^T\n",
    "ATA = np.dot(A.T, A)\n",
    "AAT = np.dot(A, A.T)\n",
    "\n",
    "# Sjekk om matriser er symmetriske\n",
    "print(\"ATA er symmetrisk:\", np.allclose(ATA, ATA.T))\n",
    "print(\"AAT er symmetrisk:\", np.allclose(AAT, AAT.T))\n",
    "\n",
    "# Finn egenverdier og egenvektorer\n",
    "eigenvalues_ATA, eigenvectors_ATA = np.linalg.eig(ATA)\n",
    "eigenvalues_AAT, eigenvectors_AAT = np.linalg.eig(AAT)\n",
    "\n",
    "# Skriv ut egenverdier og egenvektorer\n",
    "print(\"Egenverdier av A^T A:\", eigenvalues_ATA)\n",
    "print(f\"V ({eigenvectors_ATA.shape}):\\n\", eigenvectors_ATA)\n",
    "print(\"Egenverdier av A A^T:\", eigenvalues_AAT)\n",
    "print(f\"U ({eigenvectors_AAT.shape}):\\n\", eigenvectors_AAT)"
   ]
  },
  {
   "cell_type": "markdown",
   "metadata": {},
   "source": [
    "Både \\( A^T A \\) og \\( A A^T \\) er symmetriske, og symmetriske matriser er som kjent ortogonalt diagonaliserbare.\n"
   ]
  },
  {
   "cell_type": "code",
   "execution_count": 123,
   "metadata": {},
   "outputs": [
    {
     "name": "stdout",
     "output_type": "stream",
     "text": [
      "Av er en egenvektor til AAT med egenverdi λ = 1.0\n",
      "Egenverdien λ er positiv.\n"
     ]
    }
   ],
   "source": [
    "# Vis at dersom v er en egenvektor til A^T A med egenverdi λ, er Av en egenvektor til A A^T.\n",
    "# Hva er egenverdien? Kan du si noe om fortegnet?\n",
    "\n",
    "# Velg en av egenvektorene til ATA\n",
    "v = eigenvectors_ATA[:, 0]\n",
    "λ = eigenvalues_ATA[0]\n",
    "\n",
    "# Beregn Av\n",
    "Av = np.dot(A, v)\n",
    "\n",
    "# Beregn AAT * Av\n",
    "AAT_Av = np.dot(AAT, Av)\n",
    "\n",
    "# Sjekk om Av er en egenvektor til AAT og hva egenverdien er\n",
    "if np.allclose(AAT_Av, λ * Av):\n",
    "    print(\"Av er en egenvektor til AAT med egenverdi λ =\", λ)\n",
    "else:\n",
    "    print(\"Av er ikke en egenvektor til AAT med egenverdi λ =\", λ)\n",
    "\n",
    "# Sjekk fortegnet til egenverdien λ\n",
    "if λ > 0:\n",
    "    print(\"Egenverdien λ er positiv.\")\n",
    "elif λ < 0:\n",
    "    print(\"Egenverdien λ er negativ.\")\n",
    "else:\n",
    "    print(\"Egenverdien λ er null.\")\n"
   ]
  },
  {
   "cell_type": "code",
   "execution_count": 183,
   "metadata": {},
   "outputs": [
    {
     "data": {
      "text/plain": [
       "array([[2.96127773e-01, 4.93406962e-01, 6.57043677e-01, 4.61050219e-01,\n",
       "        9.35160512e-01, 8.84764822e-01, 7.01977595e-01, 4.89684912e-01,\n",
       "        1.31687282e-01, 3.97013667e-01],\n",
       "       [7.04401539e-01, 2.84885521e-01, 1.03988078e-01, 9.07898458e-01,\n",
       "        7.09050810e-01, 6.15276427e-01, 7.92498906e-01, 8.35646038e-01,\n",
       "        4.83458998e-01, 8.81188251e-01],\n",
       "       [9.16419011e-01, 2.71551095e-01, 6.07545360e-01, 1.00000000e+02,\n",
       "        5.37945779e-01, 9.37663094e-01, 3.05188703e-01, 9.83433978e-01,\n",
       "        9.02131215e-01, 4.58722889e-01],\n",
       "       [8.17453264e-01, 7.69046994e-01, 6.77894970e-01, 3.19833889e-01,\n",
       "        1.96450992e-01, 6.71527697e-01, 8.42973296e-01, 1.62527887e-02,\n",
       "        6.42803375e-01, 4.42873025e-01],\n",
       "       [8.98087755e-01, 3.21472931e-01, 4.74184812e-01, 5.14767104e-01,\n",
       "        1.40439521e-01, 7.12892303e-01, 8.30476345e-01, 5.79092769e-02,\n",
       "        2.91388821e-01, 3.80446815e-02],\n",
       "       [9.56544105e-01, 6.67168821e-01, 9.64200419e-01, 5.31494278e-01,\n",
       "        8.02068524e-01, 3.74413984e-01, 3.53819033e-01, 3.78267817e-01,\n",
       "        6.57862134e-01, 3.59453151e-01],\n",
       "       [9.00367452e-01, 9.83274865e-01, 3.04265153e-02, 1.93623290e-01,\n",
       "        1.12249993e-01, 4.23640471e-02, 2.27740993e-01, 4.46793320e-01,\n",
       "        8.36990365e-01, 2.21824031e-01],\n",
       "       [4.93945256e-01, 9.29618739e-01, 6.67214707e-01, 7.98079020e-01,\n",
       "        5.50993970e-01, 9.80466459e-01, 5.88662155e-01, 4.55107140e-02,\n",
       "        1.97982800e-01, 4.04773629e-01],\n",
       "       [6.01277173e-01, 7.71930867e-01, 4.13086126e-01, 7.10058305e-01,\n",
       "        7.89869503e-01, 3.17260197e-01, 9.79270240e-01, 6.49656495e-01,\n",
       "        8.80998061e-01, 5.55937689e-01],\n",
       "       [7.41603107e-01, 7.70544062e-01, 9.08248379e-01, 1.50349757e-01,\n",
       "        5.58283424e-01, 4.28378513e-01, 9.23159021e-01, 1.05094694e-01,\n",
       "        9.82573889e-01, 8.75451324e-01]])"
      ]
     },
     "execution_count": 183,
     "metadata": {},
     "output_type": "execute_result"
    }
   ],
   "source": [
    "katt=np.random.rand(10,10)\n",
    "katt[2,3] = 100\n",
    "katt"
   ]
  },
  {
   "cell_type": "code",
   "execution_count": 184,
   "metadata": {},
   "outputs": [
    {
     "data": {
      "text/plain": [
       "array([[ 0.65288469,  0.61905158,  0.52638283,  0.46195037,  0.5129412 ,\n",
       "         0.51297705,  0.65675156,  0.31085127,  0.54344076,  0.45519093],\n",
       "       [ 0.69537123,  0.65680706,  0.56007484,  0.91194734,  0.54556404,\n",
       "         0.54729486,  0.6968894 ,  0.33340672,  0.57938161,  0.48405326],\n",
       "       [ 0.9157935 ,  0.26991564,  0.60529047, 99.99997734,  0.54043094,\n",
       "         0.94094091,  0.30600784,  0.98651358,  0.89864511,  0.45885747],\n",
       "       [ 0.72151169,  0.68528332,  0.58197094,  0.31774529,  0.56720567,\n",
       "         0.56646832,  0.72697865,  0.34245789,  0.60029914,  0.50338617],\n",
       "       [ 0.5465334 ,  0.51744127,  0.44046672,  0.51458082,  0.42915544,\n",
       "         0.4297009 ,  0.54897851,  0.26092388,  0.4550928 ,  0.38081164],\n",
       "       [ 0.74564023,  0.70696592,  0.60115853,  0.5333099 ,  0.58580459,\n",
       "         0.58586863,  0.75002098,  0.35504576,  0.62065542,  0.51984969],\n",
       "       [ 0.52719953,  0.50095334,  0.42528898,  0.19474569,  0.41451751,\n",
       "         0.41382788,  0.53142592,  0.2500223 ,  0.43857967,  0.36788562],\n",
       "       [ 0.67443724,  0.63756861,  0.54333278,  0.79574208,  0.52929992,\n",
       "         0.5306209 ,  0.67645927,  0.32287783,  0.56181765,  0.46964142],\n",
       "       [ 0.79870907,  0.75644673,  0.64375852,  0.70998011,  0.62724757,\n",
       "         0.62787528,  0.80254266,  0.38108372,  0.66501922,  0.55659772],\n",
       "       [ 0.86814981,  0.82597014,  0.70056305,  0.14795315,  0.68290545,\n",
       "         0.68107357,  0.87617912,  0.41075953,  0.72198066,  0.60611679]])"
      ]
     },
     "execution_count": 184,
     "metadata": {},
     "output_type": "execute_result"
    }
   ],
   "source": [
    "U,S,V = np.linalg.svd(katt)\n",
    "circakatt = S[0]*U[:,[0]]@V[[0],:] + S[1]*U[:,[1]]@V[[1],:]\n",
    "circakatt"
   ]
  },
  {
   "cell_type": "code",
   "execution_count": 185,
   "metadata": {},
   "outputs": [
    {
     "data": {
      "text/plain": [
       "<Axes: >"
      ]
     },
     "execution_count": 185,
     "metadata": {},
     "output_type": "execute_result"
    },
    {
     "data": {
      "image/png": "[encoded data removed]",
      "text/plain": [
       "<Figure size 640x480 with 2 Axes>"
      ]
     },
     "metadata": {},
     "output_type": "display_data"
    }
   ],
   "source": [
    "rekonstruksjon = katt-circakatt\n",
    "import seaborn as sns\n",
    "\n",
    "sns.heatmap(rekonstruksjon)"
   ]
  },
  {
   "cell_type": "code",
   "execution_count": 194,
   "metadata": {},
   "outputs": [
    {
     "data": {
      "text/plain": [
       "array([ 4.68596681e-03,  9.38935202e-02, -3.46265095e-01,  2.15207133e+01,\n",
       "        9.74409024e-02,  2.36783508e-01,  1.67123199e-02, -2.36690026e-01,\n",
       "       -4.79754023e-01, -1.81627151e-01])"
      ]
     },
     "execution_count": 194,
     "metadata": {},
     "output_type": "execute_result"
    }
   ],
   "source": [
    "# Principal component analasys\n",
    "V[0] * S[0] * U[0, :]"
   ]
  },
  {
   "cell_type": "code",
   "execution_count": 195,
   "metadata": {},
   "outputs": [
    {
     "name": "stdout",
     "output_type": "stream",
     "text": [
      "V[0] * S[0] * U[0, :]:\n",
      " [ 2.61649441 -9.78118806 -5.23861815]\n",
      "Singulærverdier (S): [1.95743298e+01 9.19571713e-01 1.82381494e-16]\n",
      "Venstre singulærvektorer (U):\n",
      " [[-0.27205092  0.87139063  0.40824829]\n",
      " [-0.53571285  0.21527907 -0.81649658]\n",
      " [-0.79937478 -0.4408325   0.40824829]]\n",
      "Høyre singulærvektorer (V):\n",
      " [[-0.49134067 -0.76936186 -0.40824829]\n",
      " [-0.57344507 -0.06703796  0.81649658]\n",
      " [-0.65554946  0.63528595 -0.40824829]]\n"
     ]
    }
   ],
   "source": [
    "# Eksempel matrise A (3x3)\n",
    "A = np.array([[2, 3, 4],\n",
    "              [5, 6, 7],\n",
    "              [8, 9, 10]])\n",
    "\n",
    "# Utfør SVD\n",
    "U, S, Vt = np.linalg.svd(A)\n",
    "V = Vt.T  # Transponer Vt for å få V\n",
    "\n",
    "# Beregn første hovedkomponentens bidrag\n",
    "component_contribution = V[:, 0] * S[0] * U[0, :]\n",
    "print(\"V[0] * S[0] * U[0, :]:\\n\", component_contribution)\n",
    "\n",
    "# Skriv ut singulærverdiene og vektorene for referanse\n",
    "print(\"Singulærverdier (S):\", S)\n",
    "print(\"Venstre singulærvektorer (U):\\n\", U)\n",
    "print(\"Høyre singulærvektorer (V):\\n\", V)"
   ]
  },
  {
   "cell_type": "code",
   "execution_count": null,
   "metadata": {},
   "outputs": [],
   "source": []
  }
 ],
 "metadata": {
  "kernelspec": {
   "display_name": "school-environment",
   "language": "python",
   "name": "python3"
  },
  "language_info": {
   "codemirror_mode": {
    "name": "ipython",
    "version": 3
   },
   "file_extension": ".py",
   "mimetype": "text/x-python",
   "name": "python",
   "nbconvert_exporter": "python",
   "pygments_lexer": "ipython3",
   "version": "3.11.8"
  }
 },
 "nbformat": 4,
 "nbformat_minor": 2
}
